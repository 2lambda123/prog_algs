{
 "metadata": {
  "language_info": {
   "codemirror_mode": {
    "name": "ipython",
    "version": 3
   },
   "file_extension": ".py",
   "mimetype": "text/x-python",
   "name": "python",
   "nbconvert_exporter": "python",
   "pygments_lexer": "ipython3",
   "version": "3.6.12-final"
  },
  "orig_nbformat": 2,
  "kernelspec": {
   "name": "python3",
   "display_name": "Python 3.6.12 64-bit",
   "metadata": {
    "interpreter": {
     "hash": "d7f94b8b1e41b02170d45ac71ce2d6b011e7cd56207b4c480f5292088bcfab93"
    }
   }
  }
 },
 "nbformat": 4,
 "nbformat_minor": 2,
 "cells": [
  {
   "source": [
    "# Welcome to the Prognostics Algorithms Package Tutorial"
   ],
   "cell_type": "markdown",
   "metadata": {}
  },
  {
   "source": [
    "The goal of this notebook is to instruct the user on how to use and extend the NASA Python Prognostics Algorithms Package. \n",
    "\n",
    "First some background. The Prognostics Algorithms Package (`prog_algs`) contains tools for performing prognostics (event prediction) using the Prognostics Models Package. `prog_algs` also includes tools for analyzing the performance of prognostics algorithms. \n",
    "\n",
    "A few definitions:\n",
    "* state estimation: The process of estimating the (possibly hidden) state of a system given sensor information on observable states\n",
    "* prediction: The process of predicting the evolution of a system state with time and the occurance of events. \n",
    "\n",
    "The `prog_algs` package has the following structure\n",
    "* `prog_algs/state_estimators/` - Tools for performing state estimation\n",
    "* `prog_algs/predictors/` - Tools for performing prediction\n",
    "* `prog_algs/metrics/` - Tools for analyzing the performance of prognostics algorithms\n",
    "* `prog_algs/samplers/` - Tools for sampling from a distribution\n",
    "\n",
    "In addition to the `prog_algs` package, this repo includes examples showing how to use the package (see `examples/`), a template for implementing a new state estimator (`state_estimator_template`), a template for implementing a new predictor (`predictor_template`), documentation (`docs/`), and this tutorial (`tutorial.ipynb`).\n",
    "\n",
    "Before you start, make sure that all the required packages are installed (defined in `requirements.txt`)\n",
    "\n",
    "Now lets get started with some examples"
   ],
   "cell_type": "markdown",
   "metadata": {}
  },
  {
   "source": [
    "## Prediction Example \n",
    "First thing to do is to import the prog_algs and the model you intend to use"
   ],
   "cell_type": "markdown",
   "metadata": {}
  },
  {
   "cell_type": "code",
   "execution_count": 15,
   "metadata": {},
   "outputs": [],
   "source": [
    "import sys\n",
    "sys.path.insert(1, \"../python-prognostics-models-package/\")\n",
    "from prog_models.models.battery_circuit import BatteryCircuit\n",
    "from prog_algs import *"
   ]
  },
  {
   "source": [
    "Next, prepare the model like you did for simulation"
   ],
   "cell_type": "markdown",
   "metadata": {}
  },
  {
   "cell_type": "code",
   "execution_count": 16,
   "metadata": {},
   "outputs": [],
   "source": [
    "def future_loading(t, x={}):\n",
    "    # Variable (piece-wise) future loading scheme \n",
    "    if (t < 600):\n",
    "        i = 2\n",
    "    elif (t < 900):\n",
    "        i = 1\n",
    "    elif (t < 1800):\n",
    "        i = 4\n",
    "    elif (t < 3000):\n",
    "        i = 2\n",
    "    else:\n",
    "        i = 3\n",
    "    return {'i': i}\n",
    "\n",
    "batt = BatteryCircuit()"
   ]
  },
  {
   "source": [
    "Now that we have our model ready, we can construct our state estimator:"
   ],
   "cell_type": "markdown",
   "metadata": {}
  },
  {
   "cell_type": "code",
   "execution_count": 17,
   "metadata": {},
   "outputs": [],
   "source": [
    "filt = state_estimators.unscented_kalman_filter.UnscentedKalmanFilter(batt, batt.parameters['x0'])"
   ]
  },
  {
   "source": [
    "The filter estimate function can then be run when there is updated data. Each iteration it will produce a new estimate of the system state (with uncertainty). For example:"
   ],
   "cell_type": "markdown",
   "metadata": {}
  },
  {
   "cell_type": "code",
   "execution_count": 18,
   "metadata": {},
   "outputs": [
    {
     "output_type": "stream",
     "name": "stdout",
     "text": [
      "Prior State: {'tb': 18.95, 'qb': 7856.3254, 'qcp': 0.0, 'qcs': 0.0}\n\tSOC:  1.0\nPosterior State: {'tb': 30.992955874995502, 'qb': 7856.162476433427, 'qcp': 0.2777038820843582, 'qcs': 0.26019743822781277}\n\tSOC:  0.9999790505893568\n"
     ]
    }
   ],
   "source": [
    "print(\"Prior State:\", filt.x.mean)\n",
    "print('\\tSOC: ', batt.event_state(filt.x.mean)['EOD'])\n",
    "example_measurements = {'t': 32.2, 'v': 3.915}\n",
    "t = 0.1\n",
    "filt.estimate(t, future_loading(t), example_measurements)\n",
    "print(\"Posterior State:\", filt.x.mean)\n",
    "print('\\tSOC: ', batt.event_state(filt.x.mean)['EOD'])"
   ]
  },
  {
   "source": [
    "That's the state estimation step- now lets prepare for prediction. "
   ],
   "cell_type": "markdown",
   "metadata": {}
  },
  {
   "cell_type": "code",
   "execution_count": 19,
   "metadata": {},
   "outputs": [],
   "source": [
    "# Create predictor \n",
    "mc = predictors.monte_carlo.MonteCarlo(batt)\n",
    "\n",
    "# Generate Samples\n",
    "samples = filt.x.sample(20)"
   ]
  },
  {
   "source": [
    "Now lets use the constructed mc predictor to perform a single prediction. Here we're setting dt to 0.25. Note this may take up to a minute"
   ],
   "cell_type": "markdown",
   "metadata": {}
  },
  {
   "cell_type": "code",
   "execution_count": 20,
   "metadata": {},
   "outputs": [],
   "source": [
    "(times, inputs, states, outputs, event_states, eol) = mc.predict(samples, future_loading, dt=0.025)\n"
   ]
  },
  {
   "source": [
    "The prediction returns the data corresponding to each sample and each save point. The format is `[sample #][time]` so that `states[m][n]` corresponds to the state for sample `m` at time `times[m][n]`\n",
    "\n",
    "Next, let's use the metrics package to analyse the results"
   ],
   "cell_type": "markdown",
   "metadata": {}
  },
  {
   "cell_type": "code",
   "execution_count": 21,
   "metadata": {},
   "outputs": [
    {
     "output_type": "stream",
     "name": "stdout",
     "text": [
      "\n",
      "EOD Predictions (s):\n",
      "\tPercentage between 3005.2 and 3005.6:  95.0 %\n",
      "\tAssuming ground truth 3005.25:  {'min': 3005.2750000065503, 'percentiles': {'0.01': None, '0.1': None, '1': None, '10': 3005.3000000065504, '25': 3005.3250000065505, '50': 3005.3750000065506, '75': 3005.5500000065513}, 'median': 3005.3750000065506, 'mean': 3005.4112500065507, 'std': 0.10967993207550562, 'max': 3005.6250000065515, 'median absolute deviation': 0.09125000000033197, 'mean absolute deviation': 0.0960000000003447, 'number of samples': 20, 'mean absolute error': 0.16125000655076746, 'mean absolute percentage error': 5.365610400158638e-05, 'relative accuracy': 0.9999463438959985, 'ground truth percentile': 0.0}\n",
      "\tP(Success) if mission ends at 3005.25:  1.0\n"
     ]
    }
   ],
   "source": [
    "print(\"\\nEOD Predictions (s):\")\n",
    "from prog_algs.metrics import samples as metrics \n",
    "print('\\tPercentage between 3005.2 and 3005.6: ', metrics.percentage_in_bounds(eol, [3005.2, 3005.6])*100.0, '%')\n",
    "print('\\tAssuming ground truth 3005.25: ', metrics.eol_metrics(eol, 3005.25))\n",
    "print('\\tP(Success) if mission ends at 3005.25: ', metrics.prob_success(eol, 3005.25))"
   ]
  },
  {
   "source": [
    "## Extending - Adding a new state estimator\n",
    "New state estimators can be created by extending the state_estimator interface. As an example lets use a really dumb state estimator that adds random noise each step - and accepts the state that is closest. \n",
    "\n",
    "First thing we need to do is import the StateEstimator parent class"
   ],
   "cell_type": "markdown",
   "metadata": {}
  },
  {
   "cell_type": "code",
   "execution_count": 23,
   "metadata": {},
   "outputs": [],
   "source": [
    "from prog_algs.state_estimators.state_estimator import StateEstimator"
   ]
  },
  {
   "source": [
    "Next we select how state will be represented. In this case there's no uncertainty- it's just one state, so we represent it as a scaler. Import the appropriate class"
   ],
   "cell_type": "markdown",
   "metadata": {}
  },
  {
   "cell_type": "code",
   "execution_count": 24,
   "metadata": {},
   "outputs": [],
   "source": [
    "from prog_algs.uncertain_data import ScalarData"
   ]
  },
  {
   "source": [
    "Now we construct the class, implementing the functions of the state estimator template (`state_estimator_template.py`)"
   ],
   "cell_type": "markdown",
   "metadata": {}
  },
  {
   "cell_type": "code",
   "execution_count": 25,
   "metadata": {},
   "outputs": [],
   "source": [
    "import random \n",
    "\n",
    "class BlindlyStumbleEstimator(StateEstimator):\n",
    "    def __init__(self, model, x0):\n",
    "        self.m = model\n",
    "        self.state = x0\n",
    "\n",
    "    def estimate(self, t, u, z):\n",
    "        # Generate new candidate state\n",
    "        x2 = {key : float(value) + 10*(random.random()-0.5) for (key,value) in self.state.items()}\n",
    "\n",
    "        # Calculate outputs\n",
    "        z_est = self.m.output(self.state)\n",
    "        z_est2 = self.m.output(x2)\n",
    "\n",
    "        # Now score them each by how close they are to the measured z\n",
    "        z_est_score = sum([abs(z_est[key] - z[key]) for key in self.m.outputs])\n",
    "        z_est2_score = sum([abs(z_est2[key] - z[key]) for key in self.m.outputs])\n",
    "\n",
    "        # Now choose the closer one\n",
    "        if z_est2_score < z_est_score: \n",
    "            self.state = x2\n",
    "\n",
    "    @property\n",
    "    def x(self):\n",
    "        return ScalarData(self.state)\n"
   ]
  },
  {
   "source": [
    "Great, now let's try it out using the model from earlier. with an initial state of all 0s. It should slowly converge towards the correct state"
   ],
   "cell_type": "markdown",
   "metadata": {}
  },
  {
   "cell_type": "code",
   "execution_count": 26,
   "metadata": {
    "tags": []
   },
   "outputs": [
    {
     "output_type": "stream",
     "name": "stdout",
     "text": [
      "{'tb': 0, 'qb': 0, 'qcp': 0, 'qcs': 0}\n\tcorrect: {'tb': 18.95, 'qb': 7856.3254, 'qcp': 0, 'qcs': 0}\n{'tb': 1.0411987997959682, 'qb': 1.1987180490088467, 'qcp': 1.1444771729534409, 'qcs': 4.323389888820035}\n\tcorrect: {'tb': 18.95, 'qb': 7856.3254, 'qcp': 0, 'qcs': 0}\n{'tb': 1.0411987997959682, 'qb': 1.1987180490088467, 'qcp': 1.1444771729534409, 'qcs': 4.323389888820035}\n\tcorrect: {'tb': 18.95, 'qb': 7856.3254, 'qcp': 0, 'qcs': 0}\n{'tb': 5.594233428235789, 'qb': 1.1781629778079783, 'qcp': 3.1696967528521416, 'qcs': 5.511062816581412}\n\tcorrect: {'tb': 18.95, 'qb': 7856.3254, 'qcp': 0, 'qcs': 0}\n{'tb': 7.07778733969836, 'qb': -3.3737234395580016, 'qcp': 3.5297993481567893, 'qcs': 6.073162464421083}\n\tcorrect: {'tb': 18.95, 'qb': 7856.3254, 'qcp': 0, 'qcs': 0}\n{'tb': 9.446372100181849, 'qb': -5.158688218976241, 'qcp': 5.651216643148805, 'qcs': 4.353977508352162}\n\tcorrect: {'tb': 18.95, 'qb': 7856.3254, 'qcp': 0, 'qcs': 0}\n{'tb': 9.446372100181849, 'qb': -5.158688218976241, 'qcp': 5.651216643148805, 'qcs': 4.353977508352162}\n\tcorrect: {'tb': 18.95, 'qb': 7856.3254, 'qcp': 0, 'qcs': 0}\n{'tb': 9.446372100181849, 'qb': -5.158688218976241, 'qcp': 5.651216643148805, 'qcs': 4.353977508352162}\n\tcorrect: {'tb': 18.95, 'qb': 7856.3254, 'qcp': 0, 'qcs': 0}\n{'tb': 9.783138988829059, 'qb': -2.7435648829786983, 'qcp': 3.744497695396511, 'qcs': 3.7955776686740785}\n\tcorrect: {'tb': 18.95, 'qb': 7856.3254, 'qcp': 0, 'qcs': 0}\n{'tb': 11.207302750257691, 'qb': -4.921702203729505, 'qcp': -0.6148101252154419, 'qcs': 4.016087721985571}\n\tcorrect: {'tb': 18.95, 'qb': 7856.3254, 'qcp': 0, 'qcs': 0}\n{'tb': 11.708619807275147, 'qb': -1.93345778486762, 'qcp': -3.1023409556650785, 'qcs': 3.864824851718849}\n\tcorrect: {'tb': 18.95, 'qb': 7856.3254, 'qcp': 0, 'qcs': 0}\n{'tb': 13.513663993758913, 'qb': -5.275390906390555, 'qcp': -2.439838155457245, 'qcs': 7.845896867887361}\n\tcorrect: {'tb': 18.95, 'qb': 7856.3254, 'qcp': 0, 'qcs': 0}\n{'tb': 17.05277355944687, 'qb': -3.6874726308706403, 'qcp': 1.2600115345529015, 'qcs': 5.406299967693404}\n\tcorrect: {'tb': 18.95, 'qb': 7856.3254, 'qcp': 0, 'qcs': 0}\n{'tb': 17.05277355944687, 'qb': -3.6874726308706403, 'qcp': 1.2600115345529015, 'qcs': 5.406299967693404}\n\tcorrect: {'tb': 18.95, 'qb': 7856.3254, 'qcp': 0, 'qcs': 0}\n{'tb': 17.05277355944687, 'qb': -3.6874726308706403, 'qcp': 1.2600115345529015, 'qcs': 5.406299967693404}\n\tcorrect: {'tb': 18.95, 'qb': 7856.3254, 'qcp': 0, 'qcs': 0}\n{'tb': 19.060989401879887, 'qb': -7.1114030104904735, 'qcp': 3.2673867470083193, 'qcs': 1.4558284172625093}\n\tcorrect: {'tb': 18.95, 'qb': 7856.3254, 'qcp': 0, 'qcs': 0}\n{'tb': 19.060989401879887, 'qb': -7.1114030104904735, 'qcp': 3.2673867470083193, 'qcs': 1.4558284172625093}\n\tcorrect: {'tb': 18.95, 'qb': 7856.3254, 'qcp': 0, 'qcs': 0}\n{'tb': 19.060989401879887, 'qb': -7.1114030104904735, 'qcp': 3.2673867470083193, 'qcs': 1.4558284172625093}\n\tcorrect: {'tb': 18.95, 'qb': 7856.3254, 'qcp': 0, 'qcs': 0}\n{'tb': 19.060989401879887, 'qb': -7.1114030104904735, 'qcp': 3.2673867470083193, 'qcs': 1.4558284172625093}\n\tcorrect: {'tb': 18.95, 'qb': 7856.3254, 'qcp': 0, 'qcs': 0}\n{'tb': 19.060989401879887, 'qb': -7.1114030104904735, 'qcp': 3.2673867470083193, 'qcs': 1.4558284172625093}\n\tcorrect: {'tb': 18.95, 'qb': 7856.3254, 'qcp': 0, 'qcs': 0}\n{'tb': 19.060989401879887, 'qb': -7.1114030104904735, 'qcp': 3.2673867470083193, 'qcs': 1.4558284172625093}\n\tcorrect: {'tb': 18.95, 'qb': 7856.3254, 'qcp': 0, 'qcs': 0}\n{'tb': 19.060989401879887, 'qb': -7.1114030104904735, 'qcp': 3.2673867470083193, 'qcs': 1.4558284172625093}\n\tcorrect: {'tb': 18.95, 'qb': 7856.3254, 'qcp': 0, 'qcs': 0}\n{'tb': 19.281675631491986, 'qb': -4.258614751542815, 'qcp': 7.83438235380312, 'qcs': 3.451237577386477}\n\tcorrect: {'tb': 18.95, 'qb': 7856.3254, 'qcp': 0, 'qcs': 0}\n{'tb': 19.281675631491986, 'qb': -4.258614751542815, 'qcp': 7.83438235380312, 'qcs': 3.451237577386477}\n\tcorrect: {'tb': 18.95, 'qb': 7856.3254, 'qcp': 0, 'qcs': 0}\n{'tb': 19.281675631491986, 'qb': -4.258614751542815, 'qcp': 7.83438235380312, 'qcs': 3.451237577386477}\n\tcorrect: {'tb': 18.95, 'qb': 7856.3254, 'qcp': 0, 'qcs': 0}\n"
     ]
    }
   ],
   "source": [
    "x0 = {key: 0 for key in batt.states}\n",
    "se = BlindlyStumbleEstimator(batt, x0)\n",
    "\n",
    "for i in range(25):\n",
    "    u = {'i': 0}\n",
    "    z = {'t': 18.95, 'v': 4.183}\n",
    "    se.estimate(i, u, z)\n",
    "    print(se.x.mean)\n",
    "    print(\"\\tcorrect: {'tb': 18.95, 'qb': 7856.3254, 'qcp': 0, 'qcs': 0}\")"
   ]
  },
  {
   "source": [
    "## Conclusion\n",
    "Thank you for trying out this tutorial. See the examples in the `examples/` folder for more details on how to use the package. Any questions can be directed to Chris Teubert (christopher.a.teubert@nasa.gov)"
   ],
   "cell_type": "markdown",
   "metadata": {}
  },
  {
   "cell_type": "code",
   "execution_count": null,
   "metadata": {},
   "outputs": [],
   "source": []
  }
 ]
}
{
 "metadata": {
  "language_info": {
   "codemirror_mode": {
    "name": "ipython",
    "version": 3
   },
   "file_extension": ".py",
   "mimetype": "text/x-python",
   "name": "python",
   "nbconvert_exporter": "python",
   "pygments_lexer": "ipython3",
   "version": "3.6.12-final"
  },
  "orig_nbformat": 2,
  "kernelspec": {
   "name": "python3",
   "display_name": "Python 3.6.12 64-bit",
   "metadata": {
    "interpreter": {
     "hash": "d7f94b8b1e41b02170d45ac71ce2d6b011e7cd56207b4c480f5292088bcfab93"
    }
   }
  }
 },
 "nbformat": 4,
 "nbformat_minor": 2,
 "cells": [
  {
   "source": [
    "# Welcome to the Prognostics Algorithms Package Tutorial"
   ],
   "cell_type": "markdown",
   "metadata": {}
  },
  {
   "source": [
    "The goal of this notebook is to instruct the user on how to use and extend the NASA Python Prognostics Algorithms Package. \n",
    "\n",
    "First some background. The Prognostics Algorithms Package (`prog_algs`) contains tools for performing prognostics (event prediction) using the Prognostics Models Package. `prog_algs` also includes tools for analyzing the performance of prognostics algorithms. \n",
    "\n",
    "A few definitions:\n",
    "* state estimation: The process of estimating the state of a system given sensor information\n",
    "* prediction: The process of predicting the evolution of a systems state with time and the occurance of events. \n",
    "\n",
    "The `prog_algs` package has the following structure\n",
    "* `prog_algs/state_estimators/` - Tools for performing state estimation\n",
    "* `prog_algs/predictors/` - Tools for performing prediction\n",
    "* `prog_algs/metrics/` - Tools for analyzing the performance of prognostics algorithms\n",
    "* `prog_algs/samplers/` - Tools for sampling from a distribution\n",
    "\n",
    "In addition to the `prog_algs` package, this repo includes examples showing how to use the package (see `examples/`), a template for implementing a new state estimator (`state_estimator_template`), a template for implementing a new predictor (`predictor_template`), documentation (`docs/`), and this tutorial (`tutorial.ipynb`).\n",
    "\n",
    "Before you start, make sure that all the required packages are installed (defined in `requirements.txt`)\n",
    "\n",
    "Now lets get started with some examples"
   ],
   "cell_type": "markdown",
   "metadata": {}
  },
  {
   "source": [
    "## Prediction Example \n",
    "First thing to do is to import the prog_algs and the model you intend to use"
   ],
   "cell_type": "markdown",
   "metadata": {}
  },
  {
   "cell_type": "code",
   "execution_count": 11,
   "metadata": {},
   "outputs": [],
   "source": [
    "import sys\n",
    "sys.path.insert(1, \"/Users/cteubert/Desktop/python-prognostics-models-package/\")\n",
    "from prog_models.models import battery_circuit\n",
    "from prog_algs import *"
   ]
  },
  {
   "source": [
    "Next, prepare the model like you did for simulation"
   ],
   "cell_type": "markdown",
   "metadata": {}
  },
  {
   "cell_type": "code",
   "execution_count": 12,
   "metadata": {},
   "outputs": [],
   "source": [
    "def future_loading(t):\n",
    "    # Variable (piece-wise) future loading scheme \n",
    "    if (t < 600):\n",
    "        i = 2\n",
    "    elif (t < 900):\n",
    "        i = 1\n",
    "    elif (t < 1800):\n",
    "        i = 4\n",
    "    elif (t < 3000):\n",
    "        i = 2\n",
    "    else:\n",
    "        i = 3\n",
    "    return {'i': i}\n",
    "\n",
    "batt = battery_circuit.BatteryCircuit()"
   ]
  },
  {
   "source": [
    "Now that we have our model ready, we can construct our state estimator:"
   ],
   "cell_type": "markdown",
   "metadata": {}
  },
  {
   "cell_type": "code",
   "execution_count": 13,
   "metadata": {},
   "outputs": [],
   "source": [
    "filt = state_estimators.unscented_kalman_filter.UnscentedKalmanFilter(batt, batt.parameters['x0'])"
   ]
  },
  {
   "source": [
    "The filter estimate function can then be run when there is updated data. Each iteration it will produce a new estimate of the system state (with uncertainty). For example:"
   ],
   "cell_type": "markdown",
   "metadata": {}
  },
  {
   "cell_type": "code",
   "execution_count": 14,
   "metadata": {},
   "outputs": [
    {
     "output_type": "stream",
     "name": "stdout",
     "text": [
      "Prior State: {'tb': 18.95, 'qb': 7856.3254, 'qcp': 0.0, 'qcs': 0.0}\n\tSOC:  1.0\nPosterior State: {'tb': 30.982984082123195, 'qb': 7856.206190156638, 'qcp': 0.36957390341777596, 'qcs': 0.1969848637167795}\n\tSOC:  0.9999846714872879\n"
     ]
    }
   ],
   "source": [
    "print(\"Prior State:\", filt.x.mean)\n",
    "print('\\tSOC: ', batt.event_state(filt.t, filt.x.mean)['EOD'])\n",
    "example_measurements = {'t': 32.2, 'v': 3.915}\n",
    "t = 0.1\n",
    "filt.estimate(t, future_loading(t), example_measurements)\n",
    "print(\"Posterior State:\", filt.x.mean)\n",
    "print('\\tSOC: ', batt.event_state(filt.t, filt.x.mean)['EOD'])"
   ]
  },
  {
   "source": [
    "That's the state estimation step- now lets prepare for prediction. "
   ],
   "cell_type": "markdown",
   "metadata": {}
  },
  {
   "cell_type": "code",
   "execution_count": 15,
   "metadata": {},
   "outputs": [],
   "source": [
    "mc = predictors.monte_carlo.MonteCarlo(batt)\n",
    "samples = filt.x.sample(20)\n",
    "prediction_config = {'dt': 0.025}"
   ]
  },
  {
   "source": [
    "Now lets use the constructed mc predictor to perform a single prediction. Note this may take up to a minute"
   ],
   "cell_type": "markdown",
   "metadata": {}
  },
  {
   "cell_type": "code",
   "execution_count": 16,
   "metadata": {},
   "outputs": [],
   "source": [
    "(times, inputs, states, outputs, event_states, eol) = mc.predict(samples, future_loading, prediction_config)\n"
   ]
  },
  {
   "source": [
    "Next, let's use the metrics package to analyse the results"
   ],
   "cell_type": "markdown",
   "metadata": {}
  },
  {
   "cell_type": "code",
   "execution_count": 21,
   "metadata": {},
   "outputs": [
    {
     "output_type": "stream",
     "name": "stdout",
     "text": [
      "\nEOD Predictions (s):\n\tPercentage between 3005.2 and 3005.6:  70.0 %\n\tAssuming ground truth 3005.25:  {'min': 3004.950000006549, 'percentiles': {'0.01': None, '0.1': None, '1': None, '10': 3005.0250000065494, '25': 3005.17500000655, '50': 3005.25000000655, '75': 3005.425000006551}, 'median': 3005.25000000655, 'mean': 3005.2537500065505, 'std': 0.1673833549078398, 'max': 3005.5500000065513, 'median absolute deviation': 0.13125000000047748, 'mean absolute deviation': 0.13162500000050842, 'number of samples': 20, 'mean absolute error': 0.13125000065549558, 'mean absolute percentage error': 4.367357146842878e-05, 'relative accuracy': 0.9999987521814989, 'ground truth percentile': 45.0}\n\tP(Success) if mission ends at 3005.25:  0.55\n"
     ]
    }
   ],
   "source": [
    "print(\"\\nEOD Predictions (s):\")\n",
    "from prog_algs.metrics import samples as metrics \n",
    "print('\\tPercentage between 3005.2 and 3005.6: ', metrics.percentage_in_bounds(eol, [3005.2, 3005.6])*100.0, '%')\n",
    "print('\\tAssuming ground truth 3005.25: ', metrics.eol_metrics(eol, 3005.25))\n",
    "print('\\tP(Success) if mission ends at 3005.25: ', metrics.prob_success(eol, 3005.25))"
   ]
  },
  {
   "source": [
    "## Extending - Adding a new state estimator\n",
    "New state estimators can be created by extending the state_estimator interface. As an example lets use a really dumn state estimator that adds random noise each step - and accepts the state that is closest. \n",
    "\n",
    "First thing we need to do is import the StateEstimator parent class"
   ],
   "cell_type": "markdown",
   "metadata": {}
  },
  {
   "cell_type": "code",
   "execution_count": 2,
   "metadata": {},
   "outputs": [],
   "source": [
    "from prog_algs.state_estimators.state_estimator import StateEstimator"
   ]
  },
  {
   "source": [
    "Next we select how state will be represented. In this case there's no uncertainty- it's just one state, so we represent it as a scaler. Import the appropriate class"
   ],
   "cell_type": "markdown",
   "metadata": {}
  },
  {
   "cell_type": "code",
   "execution_count": 1,
   "metadata": {},
   "outputs": [],
   "source": [
    "from prog_algs.uncertain_data import ScalarData"
   ]
  },
  {
   "source": [
    "Now we construct the class, implementing the functions of the state estimator template"
   ],
   "cell_type": "markdown",
   "metadata": {}
  },
  {
   "cell_type": "code",
   "execution_count": 69,
   "metadata": {},
   "outputs": [],
   "source": [
    "import random \n",
    "\n",
    "class BlindlyStumbleEstimator(StateEstimator):\n",
    "    def __init__(self, model, x0):\n",
    "        self.m = model\n",
    "        self.state = x0\n",
    "\n",
    "    def estimate(self, t, u, z):\n",
    "        # Generate new candidate state\n",
    "        x2 = {key : float(value) + 10*(random.random()-0.5) for (key,value) in self.state.items()}\n",
    "\n",
    "        # Calculate outputs\n",
    "        z_est = self.m.output(t, self.state)\n",
    "        z_est2 = self.m.output(t, x2)\n",
    "\n",
    "        # Now score them each by how close they are to the measured z\n",
    "        z_est_score = sum([abs(z_est[key] - z[key]) for key in self.m.outputs])\n",
    "        z_est2_score = sum([abs(z_est2[key] - z[key]) for key in self.m.outputs])\n",
    "\n",
    "        # Now choose the closer one\n",
    "        if z_est2_score < z_est_score: \n",
    "            self.state = x2\n",
    "\n",
    "    @property\n",
    "    def x(self):\n",
    "        return ScalarData(self.state)\n"
   ]
  },
  {
   "source": [
    "Great, now let's try it out using the model from earlier. with an initial state of all 0s. It should slowly converge at the correct state"
   ],
   "cell_type": "markdown",
   "metadata": {}
  },
  {
   "cell_type": "code",
   "execution_count": 70,
   "metadata": {
    "tags": []
   },
   "outputs": [
    {
     "output_type": "stream",
     "name": "stdout",
     "text": [
      "{'tb': 0, 'qb': 0, 'qcp': 0, 'qcs': 0}\n\tcorrect: {'tb': 18.95, 'qb': 7856.3254, 'qcp': 0, 'qcs': 0}\n\terror:  7875.2753999999995\n{'tb': 4.936836486081938, 'qb': 3.021530797844939, 'qcp': -1.4588511765100531, 'qcs': 1.054526654619261}\n\tcorrect: {'tb': 18.95, 'qb': 7856.3254, 'qcp': 0, 'qcs': 0}\n\terror:  7869.8304105472025\n{'tb': 6.4899269298241045, 'qb': 0.4736344005074633, 'qcp': -0.3101776288442204, 'qcs': 0.7887764941537534}\n\tcorrect: {'tb': 18.95, 'qb': 7856.3254, 'qcp': 0, 'qcs': 0}\n\terror:  7869.410792792665\n{'tb': 8.855776960583043, 'qb': 4.11119516773594, 'qcp': 2.9404999121013056, 'qcs': -0.38268021774617966}\n\tcorrect: {'tb': 18.95, 'qb': 7856.3254, 'qcp': 0, 'qcs': 0}\n\terror:  7865.631608001529\n{'tb': 11.383817901257075, 'qb': 7.183441225843997, 'qcp': 6.28366310087724, 'qcs': -4.344494836349809}\n\tcorrect: {'tb': 18.95, 'qb': 7856.3254, 'qcp': 0, 'qcs': 0}\n\terror:  7867.336298810125\n{'tb': 11.383817901257075, 'qb': 7.183441225843997, 'qcp': 6.28366310087724, 'qcs': -4.344494836349809}\n\tcorrect: {'tb': 18.95, 'qb': 7856.3254, 'qcp': 0, 'qcs': 0}\n\terror:  7867.336298810125\n{'tb': 11.383817901257075, 'qb': 7.183441225843997, 'qcp': 6.28366310087724, 'qcs': -4.344494836349809}\n\tcorrect: {'tb': 18.95, 'qb': 7856.3254, 'qcp': 0, 'qcs': 0}\n\terror:  7867.336298810125\n{'tb': 11.383817901257075, 'qb': 7.183441225843997, 'qcp': 6.28366310087724, 'qcs': -4.344494836349809}\n\tcorrect: {'tb': 18.95, 'qb': 7856.3254, 'qcp': 0, 'qcs': 0}\n\terror:  7867.336298810125\n{'tb': 11.383817901257075, 'qb': 7.183441225843997, 'qcp': 6.28366310087724, 'qcs': -4.344494836349809}\n\tcorrect: {'tb': 18.95, 'qb': 7856.3254, 'qcp': 0, 'qcs': 0}\n\terror:  7867.336298810125\n{'tb': 15.32390125750121, 'qb': 10.623438860068564, 'qcp': 2.5994562960901826, 'qcs': -8.797858443876727}\n\tcorrect: {'tb': 18.95, 'qb': 7856.3254, 'qcp': 0, 'qcs': 0}\n\terror:  7860.725374622397\n{'tb': 15.32390125750121, 'qb': 10.623438860068564, 'qcp': 2.5994562960901826, 'qcs': -8.797858443876727}\n\tcorrect: {'tb': 18.95, 'qb': 7856.3254, 'qcp': 0, 'qcs': 0}\n\terror:  7860.725374622397\n{'tb': 17.21863665950385, 'qb': 12.17117180810004, 'qcp': -1.9567330185458207, 'qcs': -10.133656880058762}\n\tcorrect: {'tb': 18.95, 'qb': 7856.3254, 'qcp': 0, 'qcs': 0}\n\terror:  7857.975981431001\n{'tb': 17.21863665950385, 'qb': 12.17117180810004, 'qcp': -1.9567330185458207, 'qcs': -10.133656880058762}\n\tcorrect: {'tb': 18.95, 'qb': 7856.3254, 'qcp': 0, 'qcs': 0}\n\terror:  7857.975981431001\n{'tb': 19.109580446275388, 'qb': 13.151657850809267, 'qcp': -6.660766400940241, 'qcs': -10.610776584719149}\n\tcorrect: {'tb': 18.95, 'qb': 7856.3254, 'qcp': 0, 'qcs': 0}\n\terror:  7860.604865581125\n{'tb': 19.109580446275388, 'qb': 13.151657850809267, 'qcp': -6.660766400940241, 'qcs': -10.610776584719149}\n\tcorrect: {'tb': 18.95, 'qb': 7856.3254, 'qcp': 0, 'qcs': 0}\n\terror:  7860.604865581125\n{'tb': 19.109580446275388, 'qb': 13.151657850809267, 'qcp': -6.660766400940241, 'qcs': -10.610776584719149}\n\tcorrect: {'tb': 18.95, 'qb': 7856.3254, 'qcp': 0, 'qcs': 0}\n\terror:  7860.604865581125\n{'tb': 19.109580446275388, 'qb': 13.151657850809267, 'qcp': -6.660766400940241, 'qcs': -10.610776584719149}\n\tcorrect: {'tb': 18.95, 'qb': 7856.3254, 'qcp': 0, 'qcs': 0}\n\terror:  7860.604865581125\n{'tb': 19.109580446275388, 'qb': 13.151657850809267, 'qcp': -6.660766400940241, 'qcs': -10.610776584719149}\n\tcorrect: {'tb': 18.95, 'qb': 7856.3254, 'qcp': 0, 'qcs': 0}\n\terror:  7860.604865581125\n{'tb': 19.109580446275388, 'qb': 13.151657850809267, 'qcp': -6.660766400940241, 'qcs': -10.610776584719149}\n\tcorrect: {'tb': 18.95, 'qb': 7856.3254, 'qcp': 0, 'qcs': 0}\n\terror:  7860.604865581125\n{'tb': 19.109580446275388, 'qb': 13.151657850809267, 'qcp': -6.660766400940241, 'qcs': -10.610776584719149}\n\tcorrect: {'tb': 18.95, 'qb': 7856.3254, 'qcp': 0, 'qcs': 0}\n\terror:  7860.604865581125\n{'tb': 19.109580446275388, 'qb': 13.151657850809267, 'qcp': -6.660766400940241, 'qcs': -10.610776584719149}\n\tcorrect: {'tb': 18.95, 'qb': 7856.3254, 'qcp': 0, 'qcs': 0}\n\terror:  7860.604865581125\n{'tb': 19.109580446275388, 'qb': 13.151657850809267, 'qcp': -6.660766400940241, 'qcs': -10.610776584719149}\n\tcorrect: {'tb': 18.95, 'qb': 7856.3254, 'qcp': 0, 'qcs': 0}\n\terror:  7860.604865581125\n{'tb': 19.109580446275388, 'qb': 13.151657850809267, 'qcp': -6.660766400940241, 'qcs': -10.610776584719149}\n\tcorrect: {'tb': 18.95, 'qb': 7856.3254, 'qcp': 0, 'qcs': 0}\n\terror:  7860.604865581125\n{'tb': 19.109580446275388, 'qb': 13.151657850809267, 'qcp': -6.660766400940241, 'qcs': -10.610776584719149}\n\tcorrect: {'tb': 18.95, 'qb': 7856.3254, 'qcp': 0, 'qcs': 0}\n\terror:  7860.604865581125\n{'tb': 18.908787372328533, 'qb': 17.597195275257125, 'qcp': -7.276587792346592, 'qcs': -14.297839766927796}\n\tcorrect: {'tb': 18.95, 'qb': 7856.3254, 'qcp': 0, 'qcs': 0}\n\terror:  7860.343844911688\n"
     ]
    }
   ],
   "source": [
    "x0 = {key: 0 for key in batt.states}\n",
    "se = BlindlyStumbleEstimator(batt, x0)\n",
    "\n",
    "for i in range(25):\n",
    "    u = {'i': 0}\n",
    "    z = {'t': 18.95, 'v': 4.183}\n",
    "    se.estimate(i, u, z)\n",
    "    print(se.x.mean)\n",
    "    print(\"\\tcorrect: {'tb': 18.95, 'qb': 7856.3254, 'qcp': 0, 'qcs': 0}\")"
   ]
  },
  {
   "source": [
    "## Conclusion\n",
    "Thank you for trying out this tutorial. See the examples in the `examples/` folder for more details on how to use the package. Any questions can be directed to Chris Teubert (christopher.a.teubert@nasa.gov)"
   ],
   "cell_type": "markdown",
   "metadata": {}
  }
 ]
}
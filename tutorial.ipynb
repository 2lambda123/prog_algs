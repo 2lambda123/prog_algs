{
 "cells": [
  {
   "cell_type": "markdown",
   "metadata": {},
   "source": [
    "# Welcome to the Prognostics Algorithms Package Tutorial"
   ]
  },
  {
   "cell_type": "markdown",
   "metadata": {},
   "source": [
    "The goal of this notebook is to instruct the user on how to use and extend the NASA Python Prognostics Algorithms Package. \n",
    "\n",
    "First some background. The Prognostics Algorithms Package (`prog_algs`) contains tools for performing prognostics (event prediction) using the Prognostics Models Package. `prog_algs` also includes tools for analyzing the performance of prognostics algorithms. \n",
    "\n",
    "A few definitions:\n",
    "* state estimation: The process of estimating the (possibly hidden) state of a system given sensor information on observable states\n",
    "* prediction: The process of predicting the evolution of a system state with time and the occurance of events. \n",
    "\n",
    "The `prog_algs` package has the following structure\n",
    "* `prog_algs/state_estimators/` - Tools for performing state estimation\n",
    "* `prog_algs/predictors/` - Tools for performing prediction\n",
    "* `prog_algs/metrics/` - Tools for analyzing the performance of prognostics algorithms\n",
    "* `prog_algs/uncertain_data/` - Tools for representing data with uncertainty\n",
    "* `prog_algs/visualize/` - Tools for visualizing results\n",
    "\n",
    "In addition to the `prog_algs` package, this repo includes examples showing how to use the package (see `examples/`), a template for implementing a new state estimator (`state_estimator_template`), a template for implementing a new predictor (`predictor_template`), documentation (`docs/`), and this tutorial (`tutorial.ipynb`).\n",
    "\n",
    "Before you start, install `prog_algs` using pip:\n",
    "      `pip install prog_algs`\n",
    "or, to use the pre-release, close from GitHub and checkout the dev branch. Then run the following command:\n",
    "      `pip install -e .`\n",
    "\n",
    "Now lets get started with some examples"
   ]
  },
  {
   "cell_type": "markdown",
   "metadata": {},
   "source": [
    "## Prediction Example \n",
    "First thing to do is to import the prog_algs and the model you intend to use"
   ]
  },
  {
   "cell_type": "code",
   "execution_count": null,
   "metadata": {},
   "outputs": [],
   "source": [
    "from prog_models.models.battery_circuit import BatteryCircuit\n",
    "from prog_algs import *"
   ]
  },
  {
   "cell_type": "markdown",
   "metadata": {},
   "source": [
    "Next, prepare the model like you did for simulation"
   ]
  },
  {
   "cell_type": "code",
   "execution_count": null,
   "metadata": {},
   "outputs": [],
   "source": [
    "def future_loading(t, x={}):\n",
    "    # Variable (piece-wise) future loading scheme \n",
    "    if (t < 600):\n",
    "        i = 2\n",
    "    elif (t < 900):\n",
    "        i = 1\n",
    "    elif (t < 1800):\n",
    "        i = 4\n",
    "    elif (t < 3000):\n",
    "        i = 2\n",
    "    else:\n",
    "        i = 3\n",
    "    return {'i': i}\n",
    "\n",
    "batt = BatteryCircuit()"
   ]
  },
  {
   "cell_type": "markdown",
   "metadata": {},
   "source": [
    "Now that we have our model ready, we can construct our state estimator:"
   ]
  },
  {
   "cell_type": "code",
   "execution_count": null,
   "metadata": {},
   "outputs": [],
   "source": [
    "filt = state_estimators.UnscentedKalmanFilter(batt, batt.parameters['x0'])"
   ]
  },
  {
   "cell_type": "markdown",
   "metadata": {},
   "source": [
    "The filter estimate function can then be run when there is updated data. Each iteration it will produce a new estimate of the system state (with uncertainty). For example:"
   ]
  },
  {
   "cell_type": "code",
   "execution_count": null,
   "metadata": {},
   "outputs": [],
   "source": [
    "import matplotlib.pyplot as plt  # For plotting\n",
    "\n",
    "print(\"Prior State:\", filt.x.mean)\n",
    "print('\\tSOC: ', batt.event_state(filt.x.mean)['EOD'])\n",
    "fig = filt.x.plot_scatter(label='prior')\n",
    "example_measurements = {'t': 32.2, 'v': 3.915}\n",
    "t = 0.1\n",
    "filt.estimate(t, future_loading(t), example_measurements)\n",
    "print(\"Posterior State:\", filt.x.mean)\n",
    "print('\\tSOC: ', batt.event_state(filt.x.mean)['EOD'])\n",
    "filt.x.plot_scatter(fig= fig, label='posterior')\n",
    "\n",
    "fig.show()"
   ]
  },
  {
   "cell_type": "markdown",
   "metadata": {},
   "source": [
    "That's the state estimation step- now lets prepare for prediction. "
   ]
  },
  {
   "cell_type": "code",
   "execution_count": null,
   "metadata": {},
   "outputs": [],
   "source": [
    "# Create predictor \n",
    "mc = predictors.MonteCarlo(batt)\n",
    "\n",
    "# Generate Samples\n",
    "samples = filt.x.sample(20)"
   ]
  },
  {
   "cell_type": "markdown",
   "metadata": {},
   "source": [
    "Now lets use the constructed mc predictor to perform a single prediction. Here we're setting dt to 0.25. Note this may take up to a minute"
   ]
  },
  {
   "cell_type": "code",
   "execution_count": null,
   "metadata": {
    "tags": [
     "outputPrepend"
    ]
   },
   "outputs": [],
   "source": [
    "(times, inputs, states, outputs, event_states, toe) = mc.predict(samples, future_loading, dt=0.025)\n"
   ]
  },
  {
   "cell_type": "markdown",
   "metadata": {},
   "source": [
    "The prediction returns the data corresponding to each sample and each save point. The format is `[sample #][time]` so that `states[m][n]` corresponds to the state for sample `m` at time `times[m][n]`\n",
    "\n",
    "Next, let's use the metrics package to analyse the results"
   ]
  },
  {
   "cell_type": "code",
   "execution_count": null,
   "metadata": {},
   "outputs": [],
   "source": [
    "print(\"\\nEOD Predictions (s):\")\n",
    "print('\\tPortion between 3005.2 and 3005.6: ', toe.percentage_in_bounds([3005.2, 3005.6]))\n",
    "print('\\tAssuming ground truth 3005.25: ', toe.metrics(toe, ground_truth = 3005.25))\n",
    "from prog_algs.metrics import prob_success \n",
    "print('\\tP(Success) if mission ends at 3005.25: ', prob_success(toe, 3005.25))"
   ]
  },
  {
   "cell_type": "markdown",
   "metadata": {},
   "source": [
    "You can also visualize the results in a variety of different ways. For example, state transition"
   ]
  },
  {
   "cell_type": "code",
   "execution_count": null,
   "metadata": {},
   "outputs": [],
   "source": [
    "fig = states.snapshot(0).plot_scatter(label = \"t={}\".format(int(times[0][0])))\n",
    "states.snapshot(10).plot_scatter(fig = fig, label = \"t={}\".format(int(times[0][10])))\n",
    "states.snapshot(50).plot_scatter(fig = fig, label = \"t={}\".format(int(times[0][50])))\n",
    "\n",
    "states.snapshot(-1).plot_scatter(fig = fig, label = \"t={}\".format(int(times[0][-1])))\n",
    "fig.show()"
   ]
  },
  {
   "cell_type": "markdown",
   "metadata": {},
   "source": [
    "## Extending - Adding a new state estimator\n",
    "New state estimators can be created by extending the state_estimator interface. As an example lets use a really dumb state estimator that adds random noise each step - and accepts the state that is closest. \n",
    "\n",
    "First thing we need to do is import the StateEstimator parent class"
   ]
  },
  {
   "cell_type": "code",
   "execution_count": null,
   "metadata": {},
   "outputs": [],
   "source": [
    "from prog_algs.state_estimators.state_estimator import StateEstimator"
   ]
  },
  {
   "cell_type": "markdown",
   "metadata": {},
   "source": [
    "Next we select how state will be represented. In this case there's no uncertainty- it's just one state, so we represent it as a scaler. Import the appropriate class"
   ]
  },
  {
   "cell_type": "code",
   "execution_count": null,
   "metadata": {},
   "outputs": [],
   "source": [
    "from prog_algs.uncertain_data import ScalarData"
   ]
  },
  {
   "cell_type": "markdown",
   "metadata": {},
   "source": [
    "Now we construct the class, implementing the functions of the state estimator template (`state_estimator_template.py`)"
   ]
  },
  {
   "cell_type": "code",
   "execution_count": null,
   "metadata": {},
   "outputs": [],
   "source": [
    "import random \n",
    "\n",
    "class BlindlyStumbleEstimator(StateEstimator):\n",
    "    def __init__(self, model, x0):\n",
    "        self.m = model\n",
    "        self.state = x0\n",
    "\n",
    "    def estimate(self, t, u, z):\n",
    "        # Generate new candidate state\n",
    "        x2 = {key : float(value) + 10*(random.random()-0.5) for (key,value) in self.state.items()}\n",
    "\n",
    "        # Calculate outputs\n",
    "        z_est = self.m.output(self.state)\n",
    "        z_est2 = self.m.output(x2)\n",
    "\n",
    "        # Now score them each by how close they are to the measured z\n",
    "        z_est_score = sum([abs(z_est[key] - z[key]) for key in self.m.outputs])\n",
    "        z_est2_score = sum([abs(z_est2[key] - z[key]) for key in self.m.outputs])\n",
    "\n",
    "        # Now choose the closer one\n",
    "        if z_est2_score < z_est_score: \n",
    "            self.state = x2\n",
    "\n",
    "    @property\n",
    "    def x(self):\n",
    "        return ScalarData(self.state)\n"
   ]
  },
  {
   "cell_type": "markdown",
   "metadata": {},
   "source": [
    "Great, now let's try it out using the model from earlier. with an initial state of all 0s. It should slowly converge towards the correct state"
   ]
  },
  {
   "cell_type": "code",
   "execution_count": null,
   "metadata": {
    "tags": []
   },
   "outputs": [],
   "source": [
    "x0 = {key: 0 for key in batt.states}\n",
    "se = BlindlyStumbleEstimator(batt, x0)\n",
    "\n",
    "for i in range(25):\n",
    "    u = {'i': 0}\n",
    "    z = {'t': 18.95, 'v': 4.183}\n",
    "    se.estimate(i, u, z)\n",
    "    print(se.x.mean)\n",
    "    print(\"\\tcorrect: {'tb': 18.95, 'qb': 7856.3254, 'qcp': 0, 'qcs': 0}\")"
   ]
  },
  {
   "cell_type": "markdown",
   "metadata": {},
   "source": [
    "## Conclusion\n",
    "Thank you for trying out this tutorial. See the examples in the `examples/` folder for more details on how to use the package. Any questions can be directed to Chris Teubert (christopher.a.teubert@nasa.gov)"
   ]
  },
  {
   "cell_type": "code",
   "execution_count": null,
   "metadata": {},
   "outputs": [],
   "source": []
  }
 ],
 "metadata": {
  "interpreter": {
   "hash": "ff94885aa2d97705a9dae03869c2058fa855d1acd9df351499300343e2e591a2"
  },
  "kernelspec": {
   "display_name": "Python 3.8.12 64-bit",
   "name": "python3"
  },
  "language_info": {
   "codemirror_mode": {
    "name": "ipython",
    "version": 3
   },
   "file_extension": ".py",
   "mimetype": "text/x-python",
   "name": "python",
   "nbconvert_exporter": "python",
   "pygments_lexer": "ipython3",
   "version": "3.8.12"
  },
  "metadata": {
   "interpreter": {
    "hash": "ff94885aa2d97705a9dae03869c2058fa855d1acd9df351499300343e2e591a2"
   }
  },
  "orig_nbformat": 2
 },
 "nbformat": 4,
 "nbformat_minor": 2
}

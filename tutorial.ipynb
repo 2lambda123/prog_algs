{
 "metadata": {
  "language_info": {
   "codemirror_mode": {
    "name": "ipython",
    "version": 3
   },
   "file_extension": ".py",
   "mimetype": "text/x-python",
   "name": "python",
   "nbconvert_exporter": "python",
   "pygments_lexer": "ipython3",
   "version": "3.6.12-final"
  },
  "orig_nbformat": 2,
  "kernelspec": {
   "name": "python3",
   "display_name": "Python 3.6.12 64-bit",
   "metadata": {
    "interpreter": {
     "hash": "d7f94b8b1e41b02170d45ac71ce2d6b011e7cd56207b4c480f5292088bcfab93"
    }
   }
  }
 },
 "nbformat": 4,
 "nbformat_minor": 2,
 "cells": [
  {
   "source": [
    "# Welcome to the Prognostics Algorithms Package Tutorial"
   ],
   "cell_type": "markdown",
   "metadata": {}
  },
  {
   "source": [
    "The goal of this notebook is to instruct the user on how to use and extend the NASA Python Prognostics Algorithms Package. \n",
    "\n",
    "First some background. The Prognostics Algorithms Package (`prog_algs`) contains tools for performing prognostics (event prediction) using the Prognostics Models Package. `prog_algs` also includes tools for analyzing the performance of prognostics algorithms. \n",
    "\n",
    "A few definitions:\n",
    "* state estimation: The process of estimating the state of a system given sensor information\n",
    "* prediction: The process of predicting the evolution of a systems state with time and the occurance of events. \n",
    "\n",
    "The `prog_algs` package has the following structure\n",
    "* `prog_algs/state_estimators/` - Tools for performing state estimation\n",
    "* `prog_algs/predictors/` - Tools for performing prediction\n",
    "* `prog_algs/metrics/` - Tools for analyzing the performance of prognostics algorithms\n",
    "* `prog_algs/samplers/` - Tools for sampling from a distribution\n",
    "\n",
    "In addition to the `prog_algs` package, this repo includes examples showing how to use the package (see `examples/`), a template for implementing a new state estimator (`state_estimator_template`), a template for implementing a new predictor (`predictor_template`), documentation (`docs/`), and this tutorial (`tutorial.ipynb`).\n",
    "\n",
    "Before you start, make sure that all the required packages are installed (defined in `requirements.txt`)\n",
    "\n",
    "Now lets get started with some examples"
   ],
   "cell_type": "markdown",
   "metadata": {}
  },
  {
   "source": [
    "## Prediction Example \n",
    "First thing to do is to import the prog_algs and the model you intend to use"
   ],
   "cell_type": "markdown",
   "metadata": {}
  },
  {
   "cell_type": "code",
   "execution_count": 1,
   "metadata": {},
   "outputs": [],
   "source": [
    "import sys\n",
    "sys.path.insert(1, \"/Users/cteubert/Desktop/python-prognostics-models-package/\")\n",
    "from prog_models.models import battery_circuit\n",
    "from prog_algs import *"
   ]
  },
  {
   "source": [
    "Next, prepare the model like you did for simulation"
   ],
   "cell_type": "markdown",
   "metadata": {}
  },
  {
   "cell_type": "code",
   "execution_count": 2,
   "metadata": {},
   "outputs": [],
   "source": [
    "def future_loading(t):\n",
    "    # Variable (piece-wise) future loading scheme \n",
    "    if (t < 600):\n",
    "        i = 2\n",
    "    elif (t < 900):\n",
    "        i = 1\n",
    "    elif (t < 1800):\n",
    "        i = 4\n",
    "    elif (t < 3000):\n",
    "        i = 2\n",
    "    else:\n",
    "        i = 3\n",
    "    return {'i': i}\n",
    "\n",
    "batt = battery_circuit.BatteryCircuit()"
   ]
  },
  {
   "source": [
    "Now that we have our model ready, we can construct our state estimator:"
   ],
   "cell_type": "markdown",
   "metadata": {}
  },
  {
   "cell_type": "code",
   "execution_count": 3,
   "metadata": {},
   "outputs": [],
   "source": [
    "filt = state_estimators.unscented_kalman_filter.UnscentedKalmanFilter(batt, batt.parameters['x0'])"
   ]
  },
  {
   "source": [
    "The filter estimate function can then be run when there is updated data. Each iteration it will produce a new estimate of the system state (with uncertainty). For example:"
   ],
   "cell_type": "markdown",
   "metadata": {}
  },
  {
   "cell_type": "code",
   "execution_count": 5,
   "metadata": {},
   "outputs": [
    {
     "output_type": "stream",
     "name": "stdout",
     "text": [
      "Prior State: {'tb': 18.95, 'qb': 7856.3254, 'qcp': 0.0, 'qcs': 0.0}\n\tSOC:  1.0\nPosterior State: {'tb': 31.016216083371525, 'qb': 7856.035209074807, 'qcp': 0.3823629075923045, 'qcs': 0.15933015979554213}\n\tSOC:  0.9999626860067903\n"
     ]
    }
   ],
   "source": [
    "print(\"Prior State:\", filt.x.mean)\n",
    "print('\\tSOC: ', batt.event_state(filt.t, filt.x.mean)['EOD'])\n",
    "example_measurements = {'t': 32.2, 'v': 3.915}\n",
    "t = 0.1\n",
    "filt.estimate(t, future_loading(t), example_measurements)\n",
    "print(\"Posterior State:\", filt.x.mean)\n",
    "print('\\tSOC: ', batt.event_state(filt.t, filt.x.mean)['EOD'])"
   ]
  },
  {
   "source": [
    "That's the state estimation step- now lets prepare for prediction. "
   ],
   "cell_type": "markdown",
   "metadata": {}
  },
  {
   "cell_type": "code",
   "execution_count": 8,
   "metadata": {},
   "outputs": [],
   "source": [
    "mc = predictors.monte_carlo.MonteCarlo(batt)\n",
    "samples = filt.x.sample(20)\n",
    "prediction_config = {'dt': 0.025}"
   ]
  },
  {
   "source": [
    "Now lets use the constructed mc predictor to perform a single prediction. Note this may take up to a minute"
   ],
   "cell_type": "markdown",
   "metadata": {}
  },
  {
   "cell_type": "code",
   "execution_count": 9,
   "metadata": {},
   "outputs": [],
   "source": [
    "(times, inputs, states, outputs, event_states, eol) = mc.predict(samples, future_loading, prediction_config)\n"
   ]
  },
  {
   "source": [
    "Next, let's use the metrics package to analyse the results"
   ],
   "cell_type": "markdown",
   "metadata": {}
  },
  {
   "cell_type": "code",
   "execution_count": 13,
   "metadata": {},
   "outputs": [
    {
     "output_type": "stream",
     "name": "stdout",
     "text": [
      "\nEOD Predictions (s):\n\tPercentage between 3005.2 and 3005.6:  90.0 %\n\tAssuming ground truth 3005.25:  {'min': 3005.1250000065497, 'percentiles': {'0.01': None, '0.1': None, '1': None, '10': 3005.20000000655, '25': 3005.25000000655, '50': 3005.3250000065505, '75': 3005.450000006551}, 'median': 3005.3250000065505, 'mean': 3005.3375000065503, 'std': 0.12285662375350309, 'max': 3005.5750000065514, 'median absolute deviation': 0.10250000000037289, 'mean absolute deviation': 0.10500000000033652, 'number of samples': 20, 'mean absolute error': 0.12000000327552698, 'mean absolute percentage error': 3.993012337593444e-05, 'relative accuracy': 0.9999708842836535, 'ground truth percentile': 25.0}\n\tP(Success) if mission ends at 3005.25:  0.75\n"
     ]
    }
   ],
   "source": [
    "print(\"\\nEOD Predictions (s):\")\n",
    "from prog_algs.metrics import samples as metrics \n",
    "print('\\tPercentage between 3005.2 and 3005.6: ', metrics.percentage_in_bounds(eol, [3005.2, 3005.6])*100.0, '%')\n",
    "print('\\tAssuming ground truth 3005.25: ', metrics.eol_metrics(eol, 3005.25))\n",
    "print('\\tP(Success) if mission ends at 3005.25: ', metrics.prob_success(eol, 3005.25))"
   ]
  },
  {
   "source": [
    "## Conclusion\n",
    "Thank you for trying out this tutorial. See the examples in the `examples/` folder for more details on how to use the package. Any questions can be directed to Chris Teubert (christopher.a.teubert@nasa.gov)"
   ],
   "cell_type": "markdown",
   "metadata": {}
  }
 ]
}